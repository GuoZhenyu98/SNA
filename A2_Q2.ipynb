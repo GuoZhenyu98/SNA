{
 "cells": [
  {
   "cell_type": "code",
   "execution_count": 1,
   "metadata": {},
   "outputs": [],
   "source": [
    "import networkx as nx\n",
    "import numpy as np\n",
    "import pandas as pd\n",
    "import matplotlib.pyplot as plt"
   ]
  },
  {
   "cell_type": "code",
   "execution_count": 2,
   "metadata": {},
   "outputs": [],
   "source": [
    "G = nx.Graph()\n",
    "G.add_nodes_from(\"ABCDEFGHIJKLMNPQRST\")"
   ]
  },
  {
   "cell_type": "code",
   "execution_count": 3,
   "metadata": {},
   "outputs": [],
   "source": [
    "G.add_edges_from([(\"A\",\"C\"),(\"B\",\"C\"),(\"B\",\"E\"),(\"C\",\"D\"),(\"C\",\"F\"),(\"D\",\"F\"),(\"E\",\"G\"),(\"E\",\"F\"),(\"F\",\"J\"),(\"F\",\"L\"),(\"F\",\"H\"),(\"G\",\"I\"),(\"G\",\"J\"),(\"H\",\"K\")])\n",
    "G.add_edges_from([(\"L\",\"M\"),(\"L\",\"P\"),(\"L\",\"N\"),(\"N\",\"P\"),(\"P\",\"R\"),(\"P\",\"Q\"),(\"Q\",\"S\"),(\"S\",\"T\")])"
   ]
  },
  {
   "cell_type": "code",
   "execution_count": 4,
   "metadata": {},
   "outputs": [
    {
     "data": {
      "image/png": "[encoded data removed]",
      "text/plain": [
       "<Figure size 432x288 with 1 Axes>"
      ]
     },
     "metadata": {},
     "output_type": "display_data"
    }
   ],
   "source": [
    "nx.draw(G, with_labels=True, font_weight='bold')"
   ]
  },
  {
   "cell_type": "code",
   "execution_count": 5,
   "metadata": {},
   "outputs": [
    {
     "data": {
      "text/plain": [
       "NodeView(('A', 'B', 'C', 'D', 'E', 'F', 'G', 'H', 'I', 'J', 'K', 'L', 'M', 'N', 'P', 'Q', 'R', 'S', 'T'))"
      ]
     },
     "execution_count": 5,
     "metadata": {},
     "output_type": "execute_result"
    }
   ],
   "source": [
    "G.nodes()"
   ]
  },
  {
   "cell_type": "code",
   "execution_count": 6,
   "metadata": {},
   "outputs": [],
   "source": [
    "# The Bounding Diameters Algorithm\n",
    "import math\n",
    "V= G.nodes()\n",
    "W=V\n",
    "delta_L= -math.inf\n",
    "delta_U= + math.inf"
   ]
  },
  {
   "cell_type": "code",
   "execution_count": 7,
   "metadata": {},
   "outputs": [],
   "source": [
    "dict_L = dict.fromkeys(W)\n",
    "dict_U = dict.fromkeys(W)"
   ]
  },
  {
   "cell_type": "code",
   "execution_count": 8,
   "metadata": {},
   "outputs": [],
   "source": [
    "from networkx.algorithms.distance_measures import eccentricity \n",
    "dict_ecc=eccentricity(G)"
   ]
  },
  {
   "cell_type": "code",
   "execution_count": 9,
   "metadata": {},
   "outputs": [],
   "source": [
    "from networkx.algorithms.distance_measures import diameter\n",
    "dict_D=diameter(G)"
   ]
  },
  {
   "cell_type": "code",
   "execution_count": 10,
   "metadata": {
    "scrolled": true
   },
   "outputs": [],
   "source": [
    "deg_G=G.degree()\n",
    "dict_deg=dict.fromkeys(W)\n",
    "# for deg in (deg_G):\n",
    "for w in W:\n",
    "    dict_deg[w]=deg_G[w]"
   ]
  },
  {
   "cell_type": "code",
   "execution_count": 11,
   "metadata": {},
   "outputs": [],
   "source": [
    "for w in W:\n",
    "    dict_L[w]=-math.inf\n",
    "    dict_U[w]=math.inf "
   ]
  },
  {
   "cell_type": "code",
   "execution_count": 12,
   "metadata": {},
   "outputs": [],
   "source": [
    "flag = 1000 # if flag ==1, then the upper bound is selected. Else if flag == -1, then  the lower bound is selected. If flag==1000, \n",
    "#  then it is in initial situation.\n"
   ]
  },
  {
   "cell_type": "code",
   "execution_count": 13,
   "metadata": {},
   "outputs": [],
   "source": [
    "def selectFrom(W, flag):\n",
    "    if (flag == 1000):\n",
    "        node_s=max(dict_deg, key=dict_deg.get) # get the node with largest degree\n",
    "        flag = 1\n",
    "    elif (flag ==1): # select the node with largest upper bound value if flag==1\n",
    "        node_s= max(dict_U,key=dict_U.get)\n",
    "        flag=-flag\n",
    "    elif(flag ==-1): # select the node with smallest lower bound value if flag==-1\n",
    "        node_s= min(dict_L,key=dict_L.get)\n",
    "        flag = -flag\n",
    "    return node_s,flag\n",
    "        "
   ]
  },
  {
   "cell_type": "code",
   "execution_count": 14,
   "metadata": {},
   "outputs": [],
   "source": [
    "from networkx.algorithms.shortest_paths.generic import all_shortest_paths\n",
    "def dist_nodes(v,w):\n",
    "    sh_path_vw=[i for i in all_shortest_paths(G,v,w)][0] # get the shortest path between two nodes in G.\n",
    "    len_sh_path_vw= len(sh_path_vw)\n",
    "    return len_sh_path_vw"
   ]
  },
  {
   "cell_type": "code",
   "execution_count": 15,
   "metadata": {},
   "outputs": [],
   "source": [
    "times=0\n",
    "while ((delta_L is not delta_U) and (W is not None)):\n",
    "    v,flag=selectFrom(W,flag)\n",
    "    delta_L = max(delta_L, dict_ecc[v])\n",
    "    delta_U = min(delta_U, 2*dict_ecc[v])\n",
    "    for w in W:\n",
    "        dict_L[w]=max(dict_L[w],max((dict_ecc[v]-dist_nodes(v,w)),dist_nodes(v,w)))\n",
    "        dict_U[w]=min(dict_U[w],dict_ecc[v]+dist_nodes(v,w))\n",
    "        if ( (dict_U[w]<= delta_L) and (dict_L[w]>= delta_U/2) ) or (dict_L[w] == dict_U[w]):\n",
    "            W= W-{w}\n",
    "    times+=1"
   ]
  },
  {
   "cell_type": "code",
   "execution_count": 16,
   "metadata": {},
   "outputs": [
    {
     "name": "stdout",
     "output_type": "stream",
     "text": [
      "The diamter value of lower bounds is:  8\n",
      "The diamter value of upper bounds is:  8\n",
      "The iteration times are:  5\n"
     ]
    }
   ],
   "source": [
    "print(\"The diamter value of lower bounds is: \", delta_L)\n",
    "print(\"The diamter value of upper bounds is: \", delta_U)\n",
    "print(\"The iteration times are: \",times)"
   ]
  },
  {
   "cell_type": "markdown",
   "metadata": {},
   "source": [
    "The time complexity of the naive mthod to calculate diamter is O(mn) for sparse unweighted graphs (with n vertices and m edges)."
   ]
  }
 ],
 "metadata": {
  "kernelspec": {
   "display_name": "Python 3",
   "language": "python",
   "name": "python3"
  },
  "language_info": {
   "codemirror_mode": {
    "name": "ipython",
    "version": 3
   },
   "file_extension": ".py",
   "mimetype": "text/x-python",
   "name": "python",
   "nbconvert_exporter": "python",
   "pygments_lexer": "ipython3",
   "version": "3.8.5"
  }
 },
 "nbformat": 4,
 "nbformat_minor": 4
}
